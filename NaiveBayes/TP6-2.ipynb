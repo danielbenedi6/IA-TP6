{
 "cells": [
  {
   "cell_type": "code",
   "execution_count": 3,
   "metadata": {
    "executionInfo": {
     "elapsed": 1461,
     "status": "ok",
     "timestamp": 1608475169023,
     "user": {
      "displayName": "Daniel Benedí García",
      "photoUrl": "",
      "userId": "15032925353635224754"
     },
     "user_tz": -60
    },
    "id": "JsPaONJSA3F2"
   },
   "outputs": [],
   "source": [
    "######################################################\n",
    "# Imports\n",
    "######################################################\n",
    "\n",
    "import numpy as np\n",
    "import json\n",
    "import glob\n",
    "import matplotlib.pyplot as plt\n",
    "from sklearn.feature_extraction.text import CountVectorizer\n",
    "from sklearn.feature_extraction.text import TfidfTransformer\n",
    "from sklearn.naive_bayes import MultinomialNB\n",
    "from sklearn.naive_bayes import BernoulliNB\n",
    "from sklearn.utils import shuffle\n",
    "from sklearn import metrics"
   ]
  },
  {
   "cell_type": "code",
   "execution_count": 6,
   "metadata": {
    "executionInfo": {
     "elapsed": 627,
     "status": "ok",
     "timestamp": 1608475197264,
     "user": {
      "displayName": "Daniel Benedí García",
      "photoUrl": "",
      "userId": "15032925353635224754"
     },
     "user_tz": -60
    },
    "id": "6FFjiZE_WXFh"
   },
   "outputs": [],
   "source": [
    "def read_folder(folder):\n",
    "    mails = []\n",
    "    file_list = glob.glob(folder)  # List mails in folder\n",
    "    num_files = len(file_list)\n",
    "    for i in range(0, num_files):\n",
    "        i_path = file_list[i]\n",
    "        i_file = open(i_path, 'rb')\n",
    "        i_str = i_file.read()\n",
    "        i_text = i_str.decode('utf-8', errors='ignore')  # Convert to Unicode\n",
    "        mails.append(i_text)  # Append to the mail structure\n",
    "        i_file.close()\n",
    "    return mails\n",
    "\n",
    "\n",
    "def load_enron_folders(datasets):\n",
    "    path = './dataset/'\n",
    "    ham = []\n",
    "    spam = []\n",
    "    for j in datasets:\n",
    "        ham  = ham  + read_folder(path + 'enron' + str(j) + '/ham/*.txt')\n",
    "        spam = spam + read_folder(path + 'enron' + str(j) + '/spam/*.txt')\n",
    "    num_ham  = len(ham)\n",
    "    num_spam = len(spam)\n",
    "    print(\"mails:\", num_ham+num_spam)\n",
    "    print(\"ham  :\", num_ham)\n",
    "    print(\"spam :\", num_spam)\n",
    "\n",
    "    mails = ham + spam\n",
    "    labels = [0]*num_ham + [1]*num_spam\n",
    "    mails, labels = shuffle(mails, labels, random_state=0)\n",
    "    return mails, labels\n"
   ]
  },
  {
   "cell_type": "code",
   "execution_count": 21,
   "metadata": {},
   "outputs": [],
   "source": [
    "def load_stopwords():\n",
    "    stopwords = []\n",
    "    path = './NLTKstopwords.txt'\n",
    "    file = open(path, 'r')\n",
    "    stopwords = file.read().splitlines()\n",
    "    file.close()\n",
    "    print(\"stopwords: \", len(stopwords))\n",
    "    return stopwords"
   ]
  },
  {
   "cell_type": "code",
   "execution_count": 15,
   "metadata": {
    "colab": {
     "background_save": true,
     "base_uri": "https://localhost:8080/"
    },
    "id": "4hj4XoPeWZXP"
   },
   "outputs": [
    {
     "name": "stdout",
     "output_type": "stream",
     "text": [
      "Loading files...\n",
      "------Loading train and validation data--------\n",
      "mails: 27716\n",
      "ham  : 15045\n",
      "spam : 12671\n",
      "--------------Loading Test data----------------\n",
      "mails: 6000\n",
      "ham  : 1500\n",
      "spam : 4500\n"
     ]
    }
   ],
   "source": [
    "print(\"Loading files...\")\n",
    "\n",
    "print(\"------Loading train and validation data--------\")\n",
    "mails, y = load_enron_folders([1,2,3,4,5])\n",
    "\n",
    "print(\"--------------Loading Test data----------------\")\n",
    "mails_test, y_test = load_enron_folders([6])"
   ]
  },
  {
   "cell_type": "code",
   "execution_count": 23,
   "metadata": {},
   "outputs": [
    {
     "name": "stdout",
     "output_type": "stream",
     "text": [
      "--------------Loading Stopwords----------------\n",
      "stopwords:  127\n"
     ]
    }
   ],
   "source": [
    "print(\"--------------Loading Stopwords----------------\")\n",
    "stopwords = load_stopwords()"
   ]
  },
  {
   "cell_type": "code",
   "execution_count": 8,
   "metadata": {
    "colab": {
     "base_uri": "https://localhost:8080/"
    },
    "executionInfo": {
     "elapsed": 1238,
     "status": "ok",
     "timestamp": 1608466711848,
     "user": {
      "displayName": "Daniel Benedí García",
      "photoUrl": "",
      "userId": "15032925353635224754"
     },
     "user_tz": -60
    },
    "id": "I08qLVgMWbPg",
    "outputId": "1ece8484-59f2-4f6a-eb98-6e2b5d9d1943"
   },
   "outputs": [
    {
     "name": "stdout",
     "output_type": "stream",
     "text": [
      "-----Example of obtaining BOWs from emails-----\n",
      "A Bag of Words is represented as a sparse matrix:\n",
      "  (0, 115746)\t1\n",
      "  (0, 92993)\t1\n",
      "  (0, 107430)\t2\n",
      "  (0, 37776)\t2\n",
      "  (0, 128168)\t1\n",
      "  (0, 77556)\t1\n",
      "  (0, 18670)\t1\n",
      "  (0, 129577)\t4\n",
      "  (0, 96923)\t1\n",
      "  (0, 120766)\t7\n",
      "  (0, 89393)\t1\n",
      "  (0, 46580)\t2\n",
      "  (0, 30287)\t4\n",
      "  (0, 28130)\t4\n",
      "  (0, 29231)\t2\n",
      "  (0, 119732)\t2\n",
      "  (0, 49734)\t1\n",
      "  (0, 66712)\t1\n",
      "  (0, 134248)\t3\n",
      "  (0, 69138)\t1\n",
      "  (0, 30930)\t1\n",
      "  (0, 88913)\t1\n",
      "  (0, 22813)\t1\n",
      "  (0, 120215)\t1\n",
      "  (0, 16597)\t2\n",
      "  :\t:\n",
      "  (27715, 40122)\t1\n",
      "  (27715, 2707)\t1\n",
      "  (27715, 96621)\t3\n",
      "  (27715, 38110)\t1\n",
      "  (27715, 4131)\t1\n",
      "  (27715, 90304)\t1\n",
      "  (27715, 36044)\t2\n",
      "  (27715, 4150)\t1\n",
      "  (27715, 23515)\t1\n",
      "  (27715, 121894)\t1\n",
      "  (27715, 42363)\t1\n",
      "  (27715, 121994)\t1\n",
      "  (27715, 28422)\t1\n",
      "  (27715, 36935)\t1\n",
      "  (27715, 4779)\t1\n",
      "  (27715, 6418)\t1\n",
      "  (27715, 54705)\t2\n",
      "  (27715, 91511)\t1\n",
      "  (27715, 42677)\t3\n",
      "  (27715, 134619)\t1\n",
      "  (27715, 81579)\t1\n",
      "  (27715, 94217)\t1\n",
      "  (27715, 81812)\t1\n",
      "  (27715, 77788)\t1\n",
      "  (27715, 69304)\t1\n"
     ]
    }
   ],
   "source": [
    "print(\"-----Example of obtaining BOWs from emails-----\")\n",
    "vectorizer  = CountVectorizer(ngram_range=(1, 1))  # Initialize BOW structure\n",
    "X = vectorizer.fit_transform(mails)                # BOW with word counts\n",
    "X_test = vectorizer.transform(mails_test)          # BOW with word counts\n",
    "print(\"A Bag of Words is represented as a sparse matrix:\" )\n",
    "print(X)"
   ]
  }
 ],
 "metadata": {
  "colab": {
   "authorship_tag": "ABX9TyNG+UV7Y1bc11iprH6VnQxo",
   "collapsed_sections": [],
   "mount_file_id": "1tBUVdyR-EE2Xa3LYzPtn1FsFA9lTwnix",
   "name": "TP6-2.ipynb",
   "version": ""
  },
  "kernelspec": {
   "display_name": "Python 3",
   "language": "python",
   "name": "python3"
  },
  "language_info": {
   "codemirror_mode": {
    "name": "ipython",
    "version": 3
   },
   "file_extension": ".py",
   "mimetype": "text/x-python",
   "name": "python",
   "nbconvert_exporter": "python",
   "pygments_lexer": "ipython3",
   "version": "3.8.5"
  }
 },
 "nbformat": 4,
 "nbformat_minor": 1
}
